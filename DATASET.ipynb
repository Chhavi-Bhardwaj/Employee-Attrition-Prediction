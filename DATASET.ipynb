{
 "cells": [
  {
   "cell_type": "markdown",
   "id": "3c2231aa",
   "metadata": {},
   "source": [
    "# Importing Libraries"
   ]
  },
  {
   "cell_type": "code",
   "execution_count": null,
   "id": "c2847f76",
   "metadata": {},
   "outputs": [],
   "source": [
    "import numpy as np\n",
    "import pandas as pd\n",
    "import matplotlib.pyplot as plt\n",
    "import seaborn as sns\n",
    "from sklearn.model_selection import train_test_split\n",
    "from sklearn.metrics import confusion_matrix\n",
    "from sklearn import datasets\n",
    "from sklearn.metrics import accuracy_score"
   ]
  },
  {
   "cell_type": "code",
   "execution_count": null,
   "id": "0fd20661",
   "metadata": {},
   "outputs": [],
   "source": [
    "EA_dataset=pd.read_csv(\"Employee-attrition.csv\")"
   ]
  },
  {
   "cell_type": "code",
   "execution_count": null,
   "id": "b3cf149c",
   "metadata": {},
   "outputs": [],
   "source": [
    "EA_dataset"
   ]
  },
  {
   "cell_type": "code",
   "execution_count": null,
   "id": "f6612304",
   "metadata": {},
   "outputs": [],
   "source": [
    "#EA_dataset.info"
   ]
  },
  {
   "cell_type": "code",
   "execution_count": null,
   "id": "ab9e203e",
   "metadata": {},
   "outputs": [],
   "source": [
    "EA_dataset.shape"
   ]
  },
  {
   "cell_type": "markdown",
   "id": "b75560e5",
   "metadata": {},
   "source": [
    "# Data pre-processing"
   ]
  },
  {
   "cell_type": "code",
   "execution_count": null,
   "id": "d2de59e3",
   "metadata": {},
   "outputs": [],
   "source": [
    "EA_dataset.drop(0,inplace=True)\n",
    "EA_dataset.isnull().sum()"
   ]
  },
  {
   "cell_type": "code",
   "execution_count": null,
   "id": "8e1bda33",
   "metadata": {},
   "outputs": [],
   "source": [
    "#Mean, Median----> missing null values\n",
    "# Dropping all the records of null values---> dropna()\n",
    "\n",
    "EA_dataset.dropna(axis=0,inplace=True)\n",
    "EA_dataset"
   ]
  },
  {
   "cell_type": "code",
   "execution_count": null,
   "id": "055ace07",
   "metadata": {},
   "outputs": [],
   "source": [
    "#Check duplicate records and simply have the unique records to be included into your dataset:\n",
    "\n",
    "EA_dataset[EA_dataset.duplicated()]"
   ]
  },
  {
   "cell_type": "code",
   "execution_count": null,
   "id": "c663f115",
   "metadata": {},
   "outputs": [],
   "source": [
    "## If we have duplicates records, removing duplicates\n",
    "\n",
    "EA_dataset.drop_duplicates(keep='first')"
   ]
  },
  {
   "cell_type": "code",
   "execution_count": null,
   "id": "0eb3b1cf",
   "metadata": {},
   "outputs": [],
   "source": [
    "attrition_count=pd.DataFrame(EA_dataset['Attrition'].value_counts())\n",
    "attrition_count"
   ]
  },
  {
   "cell_type": "code",
   "execution_count": null,
   "id": "5bbfc1f8",
   "metadata": {},
   "outputs": [],
   "source": [
    "plt.pie(attrition_count['Attrition'], labels=['No', 'Yes'], explode=(0.2,0))"
   ]
  },
  {
   "cell_type": "code",
   "execution_count": null,
   "id": "670eec5c",
   "metadata": {},
   "outputs": [],
   "source": [
    "sns.countplot(EA_dataset['Attrition'])"
   ]
  },
  {
   "cell_type": "code",
   "execution_count": null,
   "id": "5d39b040",
   "metadata": {},
   "outputs": [],
   "source": [
    "EA_dataset.drop(['EmployeeCount', 'EmployeeNumber'], axis=1)"
   ]
  },
  {
   "cell_type": "code",
   "execution_count": null,
   "id": "decf6592",
   "metadata": {},
   "outputs": [],
   "source": [
    "attrition_dummies=pd.get_dummies(EA_dataset['Attrition'])\n",
    "attrition_dummies.head()"
   ]
  },
  {
   "cell_type": "code",
   "execution_count": null,
   "id": "0cfe2f36",
   "metadata": {},
   "outputs": [],
   "source": [
    "EA_dataset = pd.concat([EA_dataset, attrition_dummies], axis=1)\n",
    "EA_dataset.head()"
   ]
  },
  {
   "cell_type": "code",
   "execution_count": null,
   "id": "85954014",
   "metadata": {},
   "outputs": [],
   "source": [
    "EA_dataset=EA_dataset.drop(['Attrition', 'No'], axis=1)\n",
    "EA_dataset.head()"
   ]
  },
  {
   "cell_type": "code",
   "execution_count": null,
   "id": "e680c910",
   "metadata": {},
   "outputs": [],
   "source": [
    "## Corr matrix\n",
    "\n",
    "EA_dataset.corr()\n",
    "\n",
    "# -1 to +1\n",
    "\n",
    "# +ve corr: relationship of variable is moving in same direction.\n",
    "\n",
    "#-ve corr: relationship existing in inverse sort of phase, value of one's is increaing: another s decresing. vice-versa\n",
    "\n",
    "# no corr: no existing relationship between 2 sort of variables"
   ]
  },
  {
   "cell_type": "markdown",
   "id": "6c2e62b6",
   "metadata": {},
   "source": [
    "# Data Visualization"
   ]
  },
  {
   "cell_type": "code",
   "execution_count": null,
   "id": "72213bbb",
   "metadata": {},
   "outputs": [],
   "source": [
    "import matplotlib.pyplot as plt\n",
    "import seaborn as sns\n",
    "plt.subplots(figsize=(12,4))\n",
    "sns.countplot(x='Age', data=EA_dataset, hue='Yes')"
   ]
  },
  {
   "cell_type": "code",
   "execution_count": null,
   "id": "cfedbde6",
   "metadata": {},
   "outputs": [],
   "source": [
    "## Data Visualization, analysing different features:\n",
    "\n",
    "ftr=['BusinessTravel','Department','EducationField', 'EnvironmentSatisfaction', 'Gender','JobRole','MaritalStatus','OverTime','PerformanceRating','YearsAtCompany','YearsInCurrentRole','YearsSinceLastPromotion']\n",
    "ftr"
   ]
  },
  {
   "cell_type": "code",
   "execution_count": null,
   "id": "206c1a05",
   "metadata": {},
   "outputs": [],
   "source": [
    "fig=plt.subplots(figsize=(10,25))\n",
    "\n",
    "for p,q in enumerate(ftr):\n",
    "    plt.subplot(6, 2, p+1)\n",
    "    plt.subplots_adjust(hspace=1.0)\n",
    "    sns.countplot(x=q, data=EA_dataset, hue='Yes')\n",
    "    plt.xticks(rotation=90)"
   ]
  },
  {
   "cell_type": "code",
   "execution_count": null,
   "id": "0df83a01",
   "metadata": {},
   "outputs": [],
   "source": [
    "## Understanding-(Reason to be churn out of the company)\n",
    "\n",
    "##Age--> people mostly with the age 34 or 35 are  currently employed and ppl between the age 29 and 31 are leaving the company.\n",
    "\n",
    "## Performance Rating having Low----> willl have higher chance to be churn out of the company.\n",
    "\n",
    "##Employess having Years at company: 2-6 years\n",
    "\n",
    "## Martial Status--- Single\n",
    "\n",
    "## Gender-- Male\n",
    "\n",
    "## Environment Satisfaction-- Having low rating(1,2)--Higher chance to be churn out of the company.\n",
    "\n",
    "## Department-- Research & Development"
   ]
  },
  {
   "cell_type": "code",
   "execution_count": null,
   "id": "76a2277f",
   "metadata": {},
   "outputs": [],
   "source": [
    "## Print all of the datatypes and their unique values-\n",
    "\n",
    "for column in EA_dataset.columns:\n",
    "    if EA_dataset[column].dtype==object:\n",
    "        print(str(column) + ':' + str(EA_dataset[column].unique()))\n",
    "        print(EA_dataset[column].value_counts())\n",
    "        print('__________________________________________________________')"
   ]
  },
  {
   "cell_type": "code",
   "execution_count": null,
   "id": "c37f9f5a",
   "metadata": {},
   "outputs": [],
   "source": [
    "# Remove some useless columns-\n",
    "\n",
    "EA_dataset= EA_dataset.drop('Over18', axis=1)\n",
    "EA_dataset= EA_dataset.drop('EmployeeNumber', axis=1)\n",
    "EA_dataset= EA_dataset.drop('StandardHours', axis=1)\n",
    "EA_dataset= EA_dataset.drop('EmployeeCount', axis=1)\n",
    "EA_dataset.head()"
   ]
  },
  {
   "cell_type": "code",
   "execution_count": null,
   "id": "6f3d2f85",
   "metadata": {},
   "outputs": [],
   "source": [
    "fig,ax=plt.subplots(figsize=(15,10))\n",
    "sns.heatmap(EA_dataset.corr(), annot=True, linewidths=0.8, fmt=\".2f\")"
   ]
  },
  {
   "cell_type": "code",
   "execution_count": null,
   "id": "7e844085",
   "metadata": {},
   "outputs": [],
   "source": [
    "# Transform the Data\n",
    "# Transform non-numerical into numerical col\n",
    "from sklearn.preprocessing import LabelEncoder\n",
    "\n",
    "for column in EA_dataset.columns:\n",
    "    if EA_dataset[column].dtype == np.number:\n",
    "        continue\n",
    "    EA_dataset[column] = LabelEncoder().fit_transform(EA_dataset[column])"
   ]
  },
  {
   "cell_type": "code",
   "execution_count": null,
   "id": "454abdd8",
   "metadata": {},
   "outputs": [],
   "source": []
  },
  {
   "cell_type": "code",
   "execution_count": null,
   "id": "32162332",
   "metadata": {},
   "outputs": [],
   "source": [
    "## Split The Data-\n",
    "X= EA_dataset.iloc[:, 1:EA_dataset.shape[1]].values\n",
    "Y= EA_dataset.iloc[:, 0].values"
   ]
  },
  {
   "cell_type": "markdown",
   "id": "d9723d4c",
   "metadata": {},
   "source": [
    "## Splitting Data- Train Test Split\n",
    "##### Split the data into 75% training and 25% test data-"
   ]
  },
  {
   "cell_type": "code",
   "execution_count": null,
   "id": "79c90d9f",
   "metadata": {},
   "outputs": [],
   "source": [
    "from sklearn.model_selection import train_test_split\n",
    "X_train, X_test, Y_train, Y_test= train_test_split(X, Y, test_size=0.25, random_state=0)"
   ]
  },
  {
   "cell_type": "markdown",
   "id": "973665a1",
   "metadata": {},
   "source": [
    "## Model Development-\n",
    "### Use the Random Forest"
   ]
  },
  {
   "cell_type": "code",
   "execution_count": null,
   "id": "9e8d86f3",
   "metadata": {},
   "outputs": [],
   "source": [
    "##Use the Random Forest -\n",
    "from sklearn.ensemble import RandomForestClassifier\n",
    "forest= RandomForestClassifier(n_estimators= 10, criterion= 'entropy', random_state= 0)\n",
    "forest.fit(X_train, Y_train)\n",
    "prediction=forest.predict(X_train)\n",
    "Y_pred=forest.predict(X_test)\n",
    "score1=accuracy_score(Y_train,prediction)\n",
    "score=accuracy_score(Y_test,Y_pred)\n",
    "print(score1)\n",
    "print(score)"
   ]
  },
  {
   "cell_type": "code",
   "execution_count": null,
   "id": "6b03387a",
   "metadata": {},
   "outputs": [],
   "source": [
    "## Get the accuracy on the Train Dataset-\n",
    "forest.score(X_train, Y_train)"
   ]
  },
  {
   "cell_type": "markdown",
   "id": "4d46346a",
   "metadata": {},
   "source": [
    "### Implementing Linear Regression"
   ]
  },
  {
   "cell_type": "code",
   "execution_count": null,
   "id": "b0ce922e",
   "metadata": {},
   "outputs": [],
   "source": [
    "##Importing linear regression and metric mean absolute error -\n",
    "from sklearn.linear_model import LinearRegression as LR\n",
    "from sklearn.metrics import mean_absolute_error as mae"
   ]
  },
  {
   "cell_type": "code",
   "execution_count": null,
   "id": "a9276bde",
   "metadata": {},
   "outputs": [],
   "source": [
    "#Creating instance of LR\n",
    "lr= LR()\n",
    "\n",
    "#Fitting the model-\n",
    "lr.fit(X_train, Y_train)"
   ]
  },
  {
   "cell_type": "code",
   "execution_count": null,
   "id": "1a6a76e7",
   "metadata": {},
   "outputs": [],
   "source": [
    "#Predicting over the train set and calculating error\n",
    "\n",
    "train_predict= lr.predict(X_train)\n",
    "k=mae(train_predict, Y_train)\n",
    "print('Training mean absolute error', k)"
   ]
  },
  {
   "cell_type": "code",
   "execution_count": null,
   "id": "b1b52021",
   "metadata": {},
   "outputs": [],
   "source": [
    "#Predicting over the test set and calculating error\n",
    "\n",
    "test_predict= lr.predict(X_test)\n",
    "k=mae(test_predict, Y_test)\n",
    "print('Testing mean absolute error', k)"
   ]
  },
  {
   "cell_type": "code",
   "execution_count": null,
   "id": "846ec549",
   "metadata": {},
   "outputs": [],
   "source": [
    "lr.coef_"
   ]
  },
  {
   "cell_type": "markdown",
   "id": "b29c7f90",
   "metadata": {},
   "source": [
    "# KNN Classifier"
   ]
  },
  {
   "cell_type": "code",
   "execution_count": null,
   "id": "0da5f8b1",
   "metadata": {},
   "outputs": [],
   "source": [
    "###Importing KNN Classifier and metric F1 Score-\n",
    "\n",
    "from sklearn.neighbors import KNeighborsClassifier as KNN\n",
    "from sklearn.metrics import f1_score"
   ]
  },
  {
   "cell_type": "code",
   "execution_count": null,
   "id": "25379da5",
   "metadata": {},
   "outputs": [],
   "source": [
    "## Creating instance of KNN\n",
    "\n",
    "clf= KNN(n_neighbors=2)\n",
    "\n",
    "#Fitting the model-\n",
    "clf.fit(X_train, Y_train)\n",
    "\n",
    "##Predicting over the train set and calculate f1 score-\n",
    "train_predict= clf.predict(X_train)\n",
    "k=f1_score(train_predict, Y_train)\n",
    "print('Training F1 Score', k)\n",
    "\n",
    "##Predicting over the test set and calculate f1 score-\n",
    "test_predict= clf.predict(X_test)\n",
    "k1=f1_score(test_predict, Y_test)\n",
    "print('Testing F1 Score', k1)"
   ]
  },
  {
   "cell_type": "markdown",
   "id": "05750ed5",
   "metadata": {},
   "source": [
    "# Comparing scores of different Classifier"
   ]
  },
  {
   "cell_type": "code",
   "execution_count": null,
   "id": "b8e9d07d",
   "metadata": {},
   "outputs": [],
   "source": [
    "from sklearn.linear_model import LogisticRegression\n",
    "from sklearn.tree import DecisionTreeClassifier\n",
    "from sklearn.ensemble import RandomForestClassifier\n",
    "from sklearn.neighbors import KNeighborsClassifier\n"
   ]
  },
  {
   "cell_type": "code",
   "execution_count": null,
   "id": "164975ad",
   "metadata": {},
   "outputs": [],
   "source": [
    "lr=LogisticRegression(C = 0.1, random_state = 42, solver = 'liblinear')\n",
    "dt=DecisionTreeClassifier()\n",
    "rm=RandomForestClassifier()\n",
    "knn = KNeighborsClassifier(n_neighbors=3)\n"
   ]
  },
  {
   "cell_type": "code",
   "execution_count": null,
   "id": "402c56c7",
   "metadata": {},
   "outputs": [],
   "source": [
    "for a,b in zip([lr,dt,knn,rm],[\"Logistic Regression\",\"Decision Tree\",\"KNN\",\"Random Forest\"]):\n",
    "    a.fit(X_train,Y_train)\n",
    "    prediction=a.predict(X_train)\n",
    "    Y_pred=a.predict(X_test)\n",
    "    score1=accuracy_score(Y_train,prediction)\n",
    "    score=accuracy_score(Y_test,Y_pred)\n",
    "    msg1=\"[%s] training data accuracy is : %f\" % (b,score1)\n",
    "    msg2=\"[%s] test data accuracy is : %f\" % (b,score)\n",
    "    print(msg1)\n",
    "    print(msg2)"
   ]
  },
  {
   "cell_type": "code",
   "execution_count": null,
   "id": "421b019b",
   "metadata": {},
   "outputs": [],
   "source": [
    "model_scores={'Logistic Regression':lr.score(X_test,Y_test),\n",
    "             'KNN classifier':knn.score(X_test,Y_test),\n",
    "            \n",
    "             'Random forest':rm.score(X_test,Y_test),\n",
    "              'Decision tree':dt.score(X_test,Y_test),\n",
    "          \n",
    "             }\n",
    "model_scores"
   ]
  }
 ],
 "metadata": {
  "kernelspec": {
   "display_name": "Python 3 (ipykernel)",
   "language": "python",
   "name": "python3"
  },
  "language_info": {
   "codemirror_mode": {
    "name": "ipython",
    "version": 3
   },
   "file_extension": ".py",
   "mimetype": "text/x-python",
   "name": "python",
   "nbconvert_exporter": "python",
   "pygments_lexer": "ipython3",
   "version": "3.9.12"
  }
 },
 "nbformat": 4,
 "nbformat_minor": 5
}
